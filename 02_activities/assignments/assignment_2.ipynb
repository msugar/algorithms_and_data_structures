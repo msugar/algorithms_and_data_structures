{
 "cells": [
  {
   "cell_type": "markdown",
   "metadata": {},
   "source": [
    "# Practice Interview\n",
    "\n",
    "## Objective\n",
    "\n",
    "_*The partner assignment aims to provide participants with the opportunity to practice coding in an interview context. You will analyze your partner's Assignment 1. Moreover, code reviews are common practice in a software development team. This assignment should give you a taste of the code review process.*_\n",
    "\n",
    "## Group Size\n",
    "\n",
    "Each group should have 2 people. You will be assigned a partner\n",
    "\n",
    "## Part 1:\n",
    "\n",
    "You and your partner must share each other's Assignment 1 submission.\n",
    "\n",
    "*My [patner](https://github.com/drop2jyoti/algorithms_and_data_structures/pulls) has submitted an answer to Question Three: Missing Number in Range*"
   ]
  },
  {
   "cell_type": "markdown",
   "metadata": {},
   "source": [
    "\n",
    "## Part 2:\n",
    "\n",
    "Create a Jupyter Notebook, create 6 of the following headings, and complete the following for your partner's assignment 1:\n",
    "\n",
    "-   Paraphrase the problem in your own words.\n"
   ]
  },
  {
   "cell_type": "markdown",
   "metadata": {},
   "source": [
    "*Your answer here*\n",
    "\n",
    "### My understanding of the problem\n",
    "\n",
    "In simple terms, this is a problem about finding the \"holes\" in a sequence of numbers. Given an array of integers, we have to:\n",
    "1. Look at the maximum number in the array (say n)\n",
    "2. Compare what numbers are supposed to be there (all integers from 0 to n)\n",
    "3. Find out which ones are really gone\n",
    "4. Return these missing numbers in a list, or -1 if nothing is missing\n",
    "\n",
    "What's interesting about this is:\n",
    "- The input array may contain duplicate numbers\n",
    "- We're guaranteed that all the numbers in the array are non-negative\n",
    "- The range is implicit in the array itself (0 to max value)"
   ]
  },
  {
   "cell_type": "markdown",
   "metadata": {},
   "source": [
    "\n",
    "-   Create 1 new example that demonstrates you understand the problem. Trace/walkthrough 1 example that your partner made and explain it.\n"
   ]
  },
  {
   "cell_type": "markdown",
   "metadata": {},
   "source": [
    "*Your answer here*\n",
    "\n",
    "### My new example\n",
    "- Input: `[1, 1, 1, 4]`\n",
    "- Expected Output: `[0, 2, 3]`\n",
    "\n",
    "### Walkthrough of my partner's example\n",
    "- Input: `[6, 8, 2, 3, 5, 7, 0, 1, 10, 6, 7]`. Note the duplicated 6 and 7!\n",
    "- Expected Output: `[4, 9]`\n",
    "\n",
    "1. Identify the range:\n",
    "    - Maximum number is 10\n",
    "    - So we need all number from 0 to 10: `[0, 1, 2, 3, 4, 5, 6, 7, 8, 9, 10]`\n",
    "2. Look at what we actually have:\n",
    "    - Original array: `[6, 8, 2, 3, 5, 7, 0, 1, 10, 6, 7]`\n",
    "    - Unique numbers present (ordered):\n",
    "        |Number|Present?|\n",
    "        |------|--------|\n",
    "        |0     |Yes     |\n",
    "        |1     |Yes     |\n",
    "        |2     |Yes     |\n",
    "        |3     |Yes     |\n",
    "        |4     |No (missing!)|\n",
    "        |5     |Yes     |\n",
    "        |6     |Yes (appears twice)|\n",
    "        |7     |Yes (appears twice)|\n",
    "        |8     |Yes     |\n",
    "        |9     |No (missing!)|\n",
    "        |10    |Yes     |\n",
    "3. Therefore, the missing numbers in this example are `[4, 9]`."
   ]
  },
  {
   "cell_type": "markdown",
   "metadata": {},
   "source": [
    "\n",
    "-   Copy the solution your partner wrote. \n"
   ]
  },
  {
   "cell_type": "code",
   "execution_count": 1,
   "metadata": {},
   "outputs": [],
   "source": [
    "# Your answer here\n",
    "\n",
    "from typing import List\n",
    "\n",
    "def missingNumber(nums: List[int]) -> List[int]:\n",
    "    if not nums:  # Handle empty list\n",
    "        return [-1]\n",
    "    \n",
    "    nums_set = set(nums)\n",
    "    lower_range = min(nums_set)\n",
    "    upper_range = max(nums_set)\n",
    "    \n",
    "    # Create a list of all numbers in the range that are not in nums_set\n",
    "    missing_numbers = [number for number in range(lower_range, upper_range + 1) if number not in nums_set]\n",
    "    \n",
    "    # Return missing numbers or [-1] if none are found\n",
    "    return missing_numbers if missing_numbers else [-1]"
   ]
  },
  {
   "cell_type": "code",
   "execution_count": null,
   "metadata": {},
   "outputs": [
    {
     "name": "stdout",
     "output_type": "stream",
     "text": [
      "[-1]\n",
      "[-1]\n",
      "[-1]\n"
     ]
    }
   ],
   "source": [
    "# My own test cases to run against my partner's code:\n",
    "print(missingNumber([0])) # Works.\n",
    "print(missingNumber([10])) # Fails. It should return [0,1,2,3,4,5,6,7,8,9]\n",
    "print(missingNumber([2,2,2])) # Fails. It should return [0,1]"
   ]
  },
  {
   "cell_type": "markdown",
   "metadata": {},
   "source": [
    "\n",
    "-   Explain why their solution works in your own words.\n"
   ]
  },
  {
   "cell_type": "markdown",
   "metadata": {},
   "source": [
    "*Your answer here*\n",
    "\n",
    "### Explanation of my partner's solution\n",
    "My partner's solution fails to produce the right results if the input is a list with just one value, or a list where all the values are the same, when that value is greater than zero. It also deviates from the original requirements because it assumes the list could have negative values, while the problem says clearly it should contain only values in the [0, n] range.\n",
    "\n",
    "1. Empty list check:\n",
    "    ```\n",
    "    if not nums:\n",
    "        return [-1]\n",
    "    ```\n",
    "    This handles the edge case of an empty list. This is good defensive programming.\n",
    "\n",
    "2. Converting to set:\n",
    "    ```\n",
    "    nums_set = set(nums)\n",
    "    ```\n",
    "    This is clever because:\n",
    "    - It removes duplicates automatically\n",
    "    - Lookups in a set are O(1), making the solution more efficient\n",
    "    - It makes the code cleaner to read\n",
    "\n",
    "3. Finding the range:\n",
    "    ```\n",
    "    lower_range = min(nums_set)\n",
    "    upper_range = max(nums_set)\n",
    "    ```\n",
    "    Here's where the solution deviates from the requirements:\n",
    "    - The original problem states we work with range [0, n]\n",
    "    - Therefore, lower_range should always be 0\n",
    "    - This solution assumes we might have negative numbers, which isn't part of the requirements\n",
    "\n",
    "    It's also a bug, because it doesn't work for input lists containing just one element (when its value is greater than 0), or when all elements are of the same value (again, for values greater than 0). \n",
    "    - For example: `missingNumber([10])` should return `[0, 1, 2, 3, 4, 5, 6, 7, 8, 9]`, but my partner's code incorrectly returns `[-1]` instead.\n",
    "    - The problem is that `lower_range`  and `upper_range` are set to the same value under those circumstances, making `range(lower_range, upper_range + 1)` an empty range.\n",
    "\n",
    "4. Finding missing numbers:\n",
    "    ```\n",
    "    missing_numbers = [number for number in range(lower_range, upper_range + 1) if number not in nums_set]\n",
    "    ```\n",
    "    This line:\n",
    "    - Uses a list comprehension to find all missing numbers\n",
    "    - Checks each number in the range against our set\n",
    "    - Creates a list of numbers that should be there but aren't\n",
    "    - As mentioned above, it doesn't gives the correct results when the input list has one value or all elements are of the same value, when that value is greater than 0.\n",
    "    \n",
    "5. Return logic:\n",
    "    ```\n",
    "    return missing_numbers if missing_numbers else [-1]\n",
    "    ```\n",
    "    This follows the requirement to return -1 (though as a list [-1]) when no numbers are missing. But it fails to produce the correct results in the cases mentioned above."
   ]
  },
  {
   "cell_type": "markdown",
   "metadata": {},
   "source": [
    "\n",
    "-   Explain the problem’s time and space complexity in your own words.\n"
   ]
  },
  {
   "cell_type": "markdown",
   "metadata": {},
   "source": [
    "*Your answer here*\n",
    "\n",
    "Let k = length of input list\n",
    "\n",
    "Let m = maximum number in the list"
   ]
  },
  {
   "cell_type": "code",
   "execution_count": null,
   "metadata": {},
   "outputs": [],
   "source": [
    "# My partner's code with my comments\n",
    "def missingNumber(nums: List[int]) -> List[int]:\n",
    "    if not nums:  # O(1)\n",
    "        return [-1]\n",
    "    \n",
    "    nums_set = set(nums)  # O(k) - need to convert list of length k to set\n",
    "    max_num = max(nums_set)  # O(k) - need to scan all k elements\n",
    "    \n",
    "    # O(m) - in worst case, need to check EVERY number from 0 to max\n",
    "    missing_numbers = [num for num in range(max_num + 1) \n",
    "                      if num not in nums_set]  # each lookup in set is O(1)\n",
    "    \n",
    "    return missing_numbers if missing_numbers else [-1]  # O(1)"
   ]
  },
  {
   "cell_type": "markdown",
   "metadata": {},
   "source": [
    "### Time Complexity: O(n)\n",
    "Let k = length of input list\n",
    "Let m = maximum number in the list\n",
    "\n",
    "1. Converting to set: O(k)\n",
    "2. Finding maximum: O(k)\n",
    "3. Creating missing_numbers list: O(m) in  the worst-case scenario\n",
    "    - Even though we have a loop and a lookup, the lookup in a set is O(1)\n",
    "    - We might need to check every number from 0 to max_num\n",
    "\n",
    "These operations happen sequentially, not nested, so we \"add\" them:\n",
    "O(k) + O(k) + O(m) = O(n), where n = max(m,k).\n",
    "\n",
    "If we have an input with lots of duplicates but in a tight range, k >> n and then O(n) = O(k).\n",
    "\n",
    "On the other side, when the max number in the range is much larger than the input length, n >> k and O(n) = O(m)\n",
    "\n",
    "\n",
    "### Space Complexity: O(n)\n",
    "1. `num_set`: O(k) space\n",
    "2. `missing_numbers`: O(m) space, because in the worst-case scenario we could need to store almost all numbers from 0 to `max_num`\n",
    "\n",
    "Again, O(k) + O(m) = O(n), where n = max(m,k), and similarly to the time complexity: if k >> m, O(n) = O(k); if m >> k, O(n) = O(m)."
   ]
  },
  {
   "cell_type": "markdown",
   "metadata": {},
   "source": [
    "\n",
    "-   Critique your partner's solution, including explanation, and if there is anything that should be adjusted.\n"
   ]
  },
  {
   "cell_type": "markdown",
   "metadata": {},
   "source": [
    "*Your answer here*\n",
    "\n",
    "### Solution Critique\n",
    "1. Edge Case Handling:\n",
    "    - Good defensive programming\n",
    "2. Range Issue:\n",
    "    - As we discussed earlier, the problem specifically states range should be [0, n]\n",
    "    - Their solution assumes a flexible range, which doesn't match requirements\n",
    "    - This adds unnecessary complexity, and inadvertently caused the bug discussed earlier\n",
    "    - The correct solution should:\n",
    "        - Always start from 0\n",
    "        - Use the max number as the upper bound\n",
    "        - Check all numbers in range [0,n]\n",
    "    - This illustrates a common pitfall in algorithm problems:\n",
    "        - Making assumptions that weren't specified\n",
    "        - Not testing edge cases thoroughly\n",
    "        - Missing requirements\n",
    "3. Return Value:\n",
    "    - Good use of conditional expression\n",
    "    - Correctly follows requirement to return [-1] when no missing numbers\n",
    "    - Wrongly returns [-1] for the cases discussed in my explanation\n",
    "    \n",
    "### Explanation Critique\n",
    "1. Explanation Doesn't Reflect Code:\n",
    "    - \"check for empty list or list with only one item\" doesn't match the code.\n",
    "    - The code only checks for empty list, not single-item lists\n",
    "    - Their explanation says \"return [1]\" but code correctly returns [-1]\n",
    "2. Complexity Analysis Issues:\n",
    "    - They don't discuss cases where k >> n or n >> k\n",
    "    - The fact they consider negative numbers in the input list as valid (despite the problem statement saying otherwise) doesn't show up explicitly in the analysis."
   ]
  },
  {
   "cell_type": "markdown",
   "metadata": {},
   "source": [
    "\n",
    "## Part 3:\n",
    "\n",
    "Please write a 200 word reflection documenting your process from assignment 1, and your presentation and review experience with your partner at the bottom of the Jupyter Notebook under a new heading \"Reflection.\" Again, export this Notebook as pdf.\n"
   ]
  },
  {
   "cell_type": "markdown",
   "metadata": {},
   "source": [
    "### Reflection"
   ]
  },
  {
   "cell_type": "markdown",
   "metadata": {},
   "source": [
    "*Your answer here*\n",
    "\n",
    "Working with my partner's code on this missing numbers problem was an enlightening experience that highlighted several important lessons in algorithm design and problem-solving.\n",
    "\n",
    "First, it demonstrated how crucial it is to fully understand the problem requirements. My partner's solution was technically sound and showed good programming practices (using sets for efficiency, handling empty inputs, clean code structure), but it fundamentally misinterpreted the problem's range requirement. This is a common pitfall in both academic and real-world programming – we can write elegant code that solves the wrong problem!\n",
    "\n",
    "The complexity analysis discussion was particularly interesting. While my partner provided a detailed analysis, breaking it down into simpler terms (using just k and n) made it much clearer. This reinforced the importance of clear communication in technical discussions.\n",
    "\n",
    "Testing edge cases proved invaluable. The cases [10] and [2,2,2] exposed the core issue in the solution's logic. This reminded me that in algorithm problems, it's not enough to test typical cases – we need to consider boundary conditions and \"unexpected\" inputs.\n",
    "\n",
    "The experience also showed how code reviews can be educational for both parties. By analyzing their solution, I deepened my understanding of both the problem and common algorithmic patterns. It's a reminder that in software development, learning often comes from examining and discussing different approaches, even (or especially) when they contain mistakes."
   ]
  },
  {
   "cell_type": "markdown",
   "metadata": {},
   "source": [
    "\n",
    "## Evaluation Criteria\n",
    "\n",
    "We are looking for the similar points as Assignment 1\n",
    "\n",
    "-   Problem is accurately stated\n",
    "\n",
    "-   New example is correct and easily understandable\n",
    "\n",
    "-   Correctness, time, and space complexity of the coding solution\n",
    "\n",
    "-   Clarity in explaining why the solution works, its time and space complexity\n",
    "\n",
    "-   Quality of critique of your partner's assignment, if necessary\n"
   ]
  },
  {
   "cell_type": "markdown",
   "metadata": {},
   "source": [
    "## Submission Information\n",
    "\n",
    "🚨 **Please review our [Assignment Submission Guide](https://github.com/UofT-DSI/onboarding/blob/main/onboarding_documents/submissions.md)** 🚨 for detailed instructions on how to format, branch, and submit your work. Following these guidelines is crucial for your submissions to be evaluated correctly.\n",
    "\n",
    "### Submission Parameters:\n",
    "* Submission Due Date: `HH:MM AM/PM - DD/MM/YYYY`\n",
    "* The branch name for your repo should be: `assignment-2`\n",
    "* What to submit for this assignment:\n",
    "    * This Jupyter Notebook (assignment_2.ipynb) should be populated and should be the only change in your pull request.\n",
    "* What the pull request link should look like for this assignment: `https://github.com/<your_github_username>/algorithms_and_data_structures/pull/<pr_id>`\n",
    "    * Open a private window in your browser. Copy and paste the link to your pull request into the address bar. Make sure you can see your pull request properly. This helps the technical facilitator and learning support staff review your submission easily.\n",
    "\n",
    "Checklist:\n",
    "- [ x ] Created a branch with the correct naming convention.\n",
    "- [ x ] Ensured that the repository is public.\n",
    "- [ x ] Reviewed the PR description guidelines and adhered to them.\n",
    "- [ x ] Verify that the link is accessible in a private browser window.\n",
    "\n",
    "If you encounter any difficulties or have questions, please don't hesitate to reach out to our team via our Slack at `#cohort-3-help`. Our Technical Facilitators and Learning Support staff are here to help you navigate any challenges.\n"
   ]
  }
 ],
 "metadata": {
  "kernelspec": {
   "display_name": "dsi_participant",
   "language": "python",
   "name": "python3"
  },
  "language_info": {
   "codemirror_mode": {
    "name": "ipython",
    "version": 3
   },
   "file_extension": ".py",
   "mimetype": "text/x-python",
   "name": "python",
   "nbconvert_exporter": "python",
   "pygments_lexer": "ipython3",
   "version": "3.9.18"
  }
 },
 "nbformat": 4,
 "nbformat_minor": 2
}
